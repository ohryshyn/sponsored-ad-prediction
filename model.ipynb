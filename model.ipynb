{
 "cells": [
  {
   "cell_type": "code",
   "execution_count": 2,
   "metadata": {},
   "outputs": [],
   "source": [
    "import glob\n",
    "import pandas as pd\n",
    "import seaborn as sns\n",
    "\n",
    "from xgboost import XGBClassifier\n",
    "from sklearn.model_selection import train_test_split, cross_val_score, GridSearchCV, RandomizedSearchCV\n",
    "from sklearn.ensemble import RandomForestClassifier\n",
    "from sklearn.pipeline import Pipeline\n",
    "from sklearn.metrics import confusion_matrix, classification_report\n",
    "from sklearn.compose import ColumnTransformer\n",
    "from sklearn.preprocessing import StandardScaler\n",
    "from sklearn.feature_selection import SelectKBest"
   ]
  },
  {
   "cell_type": "code",
   "execution_count": 2,
   "metadata": {},
   "outputs": [],
   "source": [
    "SEED = 8455"
   ]
  },
  {
   "cell_type": "code",
   "execution_count": 3,
   "metadata": {},
   "outputs": [],
   "source": [
    "sns.set_style('darkgrid')"
   ]
  },
  {
   "cell_type": "code",
   "execution_count": 4,
   "metadata": {},
   "outputs": [],
   "source": [
    "cols_to_skip = ['raw_text']"
   ]
  },
  {
   "cell_type": "code",
   "execution_count": 66,
   "metadata": {},
   "outputs": [],
   "source": [
    "df_html_data = pd.concat([pd.read_csv(csv, lineterminator='\\n', usecols=lambda x: x not in cols_to_skip)\n",
    "               for csv in glob.glob('data/csv/*.csv')], ignore_index=True)\n",
    "df_file_labels = pd.read_csv('data/html_targets.csv')\n",
    "df = df_html_data.merge(df_file_labels, left_on='filename', right_on='file')\n",
    "df = df.drop(['file', 'filename'], axis=1)"
   ]
  },
  {
   "cell_type": "code",
   "execution_count": 69,
   "metadata": {},
   "outputs": [
    {
     "data": {
      "text/html": [
       "<div>\n",
       "<style scoped>\n",
       "    .dataframe tbody tr th:only-of-type {\n",
       "        vertical-align: middle;\n",
       "    }\n",
       "\n",
       "    .dataframe tbody tr th {\n",
       "        vertical-align: top;\n",
       "    }\n",
       "\n",
       "    .dataframe thead th {\n",
       "        text-align: right;\n",
       "    }\n",
       "</style>\n",
       "<table border=\"1\" class=\"dataframe\">\n",
       "  <thead>\n",
       "    <tr style=\"text-align: right;\">\n",
       "      <th></th>\n",
       "      <th>language</th>\n",
       "      <th>num_headers</th>\n",
       "      <th>num_paragraphs</th>\n",
       "      <th>num_tags</th>\n",
       "      <th>num_links</th>\n",
       "      <th>num_images</th>\n",
       "      <th>num_tables</th>\n",
       "      <th>num_lists</th>\n",
       "      <th>num_forms</th>\n",
       "      <th>num_inputs</th>\n",
       "      <th>...</th>\n",
       "      <th>num_embeds</th>\n",
       "      <th>num_lines</th>\n",
       "      <th>num_words</th>\n",
       "      <th>num_italic_words</th>\n",
       "      <th>num_bold_words</th>\n",
       "      <th>num_characters</th>\n",
       "      <th>num_unique_words</th>\n",
       "      <th>num_unique_characters</th>\n",
       "      <th>num_digits</th>\n",
       "      <th>sponsored</th>\n",
       "    </tr>\n",
       "  </thead>\n",
       "  <tbody>\n",
       "    <tr>\n",
       "      <th>0</th>\n",
       "      <td>en</td>\n",
       "      <td>21</td>\n",
       "      <td>22</td>\n",
       "      <td>882</td>\n",
       "      <td>193</td>\n",
       "      <td>65</td>\n",
       "      <td>0</td>\n",
       "      <td>20</td>\n",
       "      <td>6</td>\n",
       "      <td>10</td>\n",
       "      <td>...</td>\n",
       "      <td>0</td>\n",
       "      <td>1980</td>\n",
       "      <td>1211</td>\n",
       "      <td>1</td>\n",
       "      <td>2</td>\n",
       "      <td>16288</td>\n",
       "      <td>668</td>\n",
       "      <td>80</td>\n",
       "      <td>267</td>\n",
       "      <td>0</td>\n",
       "    </tr>\n",
       "    <tr>\n",
       "      <th>1</th>\n",
       "      <td>NaN</td>\n",
       "      <td>5</td>\n",
       "      <td>17</td>\n",
       "      <td>572</td>\n",
       "      <td>151</td>\n",
       "      <td>76</td>\n",
       "      <td>0</td>\n",
       "      <td>4</td>\n",
       "      <td>1</td>\n",
       "      <td>1</td>\n",
       "      <td>...</td>\n",
       "      <td>0</td>\n",
       "      <td>1211</td>\n",
       "      <td>2036</td>\n",
       "      <td>17</td>\n",
       "      <td>2</td>\n",
       "      <td>17094</td>\n",
       "      <td>1125</td>\n",
       "      <td>78</td>\n",
       "      <td>117</td>\n",
       "      <td>0</td>\n",
       "    </tr>\n",
       "    <tr>\n",
       "      <th>2</th>\n",
       "      <td>NaN</td>\n",
       "      <td>6</td>\n",
       "      <td>3</td>\n",
       "      <td>531</td>\n",
       "      <td>169</td>\n",
       "      <td>32</td>\n",
       "      <td>0</td>\n",
       "      <td>5</td>\n",
       "      <td>1</td>\n",
       "      <td>2</td>\n",
       "      <td>...</td>\n",
       "      <td>0</td>\n",
       "      <td>1190</td>\n",
       "      <td>747</td>\n",
       "      <td>6</td>\n",
       "      <td>0</td>\n",
       "      <td>9668</td>\n",
       "      <td>403</td>\n",
       "      <td>72</td>\n",
       "      <td>30</td>\n",
       "      <td>0</td>\n",
       "    </tr>\n",
       "    <tr>\n",
       "      <th>3</th>\n",
       "      <td>NaN</td>\n",
       "      <td>145</td>\n",
       "      <td>6</td>\n",
       "      <td>2840</td>\n",
       "      <td>674</td>\n",
       "      <td>34</td>\n",
       "      <td>0</td>\n",
       "      <td>26</td>\n",
       "      <td>2</td>\n",
       "      <td>4</td>\n",
       "      <td>...</td>\n",
       "      <td>0</td>\n",
       "      <td>6594</td>\n",
       "      <td>6382</td>\n",
       "      <td>0</td>\n",
       "      <td>2</td>\n",
       "      <td>87962</td>\n",
       "      <td>2008</td>\n",
       "      <td>79</td>\n",
       "      <td>1240</td>\n",
       "      <td>0</td>\n",
       "    </tr>\n",
       "    <tr>\n",
       "      <th>4</th>\n",
       "      <td>NaN</td>\n",
       "      <td>16</td>\n",
       "      <td>19</td>\n",
       "      <td>433</td>\n",
       "      <td>87</td>\n",
       "      <td>6</td>\n",
       "      <td>0</td>\n",
       "      <td>17</td>\n",
       "      <td>2</td>\n",
       "      <td>10</td>\n",
       "      <td>...</td>\n",
       "      <td>0</td>\n",
       "      <td>977</td>\n",
       "      <td>539</td>\n",
       "      <td>0</td>\n",
       "      <td>41</td>\n",
       "      <td>6578</td>\n",
       "      <td>291</td>\n",
       "      <td>64</td>\n",
       "      <td>42</td>\n",
       "      <td>0</td>\n",
       "    </tr>\n",
       "  </tbody>\n",
       "</table>\n",
       "<p>5 rows × 24 columns</p>\n",
       "</div>"
      ],
      "text/plain": [
       "  language  num_headers  num_paragraphs  num_tags  num_links  num_images  \\\n",
       "0       en           21              22       882        193          65   \n",
       "1      NaN            5              17       572        151          76   \n",
       "2      NaN            6               3       531        169          32   \n",
       "3      NaN          145               6      2840        674          34   \n",
       "4      NaN           16              19       433         87           6   \n",
       "\n",
       "   num_tables  num_lists  num_forms  num_inputs  ...  num_embeds  num_lines  \\\n",
       "0           0         20          6          10  ...           0       1980   \n",
       "1           0          4          1           1  ...           0       1211   \n",
       "2           0          5          1           2  ...           0       1190   \n",
       "3           0         26          2           4  ...           0       6594   \n",
       "4           0         17          2          10  ...           0        977   \n",
       "\n",
       "   num_words  num_italic_words  num_bold_words  num_characters  \\\n",
       "0       1211                 1               2           16288   \n",
       "1       2036                17               2           17094   \n",
       "2        747                 6               0            9668   \n",
       "3       6382                 0               2           87962   \n",
       "4        539                 0              41            6578   \n",
       "\n",
       "   num_unique_words  num_unique_characters  num_digits  sponsored  \n",
       "0               668                     80         267          0  \n",
       "1              1125                     78         117          0  \n",
       "2               403                     72          30          0  \n",
       "3              2008                     79        1240          0  \n",
       "4               291                     64          42          0  \n",
       "\n",
       "[5 rows x 24 columns]"
      ]
     },
     "execution_count": 69,
     "metadata": {},
     "output_type": "execute_result"
    }
   ],
   "source": [
    "df.head()"
   ]
  },
  {
   "cell_type": "code",
   "execution_count": 68,
   "metadata": {},
   "outputs": [
    {
     "data": {
      "text/html": [
       "<div>\n",
       "<style scoped>\n",
       "    .dataframe tbody tr th:only-of-type {\n",
       "        vertical-align: middle;\n",
       "    }\n",
       "\n",
       "    .dataframe tbody tr th {\n",
       "        vertical-align: top;\n",
       "    }\n",
       "\n",
       "    .dataframe thead th {\n",
       "        text-align: right;\n",
       "    }\n",
       "</style>\n",
       "<table border=\"1\" class=\"dataframe\">\n",
       "  <thead>\n",
       "    <tr style=\"text-align: right;\">\n",
       "      <th></th>\n",
       "      <th>num_headers</th>\n",
       "      <th>num_paragraphs</th>\n",
       "      <th>num_tags</th>\n",
       "      <th>num_links</th>\n",
       "      <th>num_images</th>\n",
       "      <th>num_tables</th>\n",
       "      <th>num_lists</th>\n",
       "      <th>num_forms</th>\n",
       "      <th>num_inputs</th>\n",
       "      <th>num_buttons</th>\n",
       "      <th>...</th>\n",
       "      <th>num_embeds</th>\n",
       "      <th>num_lines</th>\n",
       "      <th>num_words</th>\n",
       "      <th>num_italic_words</th>\n",
       "      <th>num_bold_words</th>\n",
       "      <th>num_characters</th>\n",
       "      <th>num_unique_words</th>\n",
       "      <th>num_unique_characters</th>\n",
       "      <th>num_digits</th>\n",
       "      <th>sponsored</th>\n",
       "    </tr>\n",
       "  </thead>\n",
       "  <tbody>\n",
       "    <tr>\n",
       "      <th>count</th>\n",
       "      <td>337024.000000</td>\n",
       "      <td>337024.000000</td>\n",
       "      <td>337024.000000</td>\n",
       "      <td>337024.00000</td>\n",
       "      <td>337024.000000</td>\n",
       "      <td>337024.000000</td>\n",
       "      <td>337024.000000</td>\n",
       "      <td>337024.000000</td>\n",
       "      <td>337024.000000</td>\n",
       "      <td>337024.000000</td>\n",
       "      <td>...</td>\n",
       "      <td>337024.000000</td>\n",
       "      <td>337024.000000</td>\n",
       "      <td>3.370240e+05</td>\n",
       "      <td>337024.000000</td>\n",
       "      <td>337024.000000</td>\n",
       "      <td>3.370240e+05</td>\n",
       "      <td>337024.000000</td>\n",
       "      <td>337024.000000</td>\n",
       "      <td>337024.000000</td>\n",
       "      <td>337024.000000</td>\n",
       "    </tr>\n",
       "    <tr>\n",
       "      <th>mean</th>\n",
       "      <td>15.117422</td>\n",
       "      <td>29.244612</td>\n",
       "      <td>697.546198</td>\n",
       "      <td>144.11325</td>\n",
       "      <td>29.466815</td>\n",
       "      <td>1.345064</td>\n",
       "      <td>14.948155</td>\n",
       "      <td>2.277393</td>\n",
       "      <td>10.181800</td>\n",
       "      <td>1.672611</td>\n",
       "      <td>...</td>\n",
       "      <td>0.034030</td>\n",
       "      <td>1649.578327</td>\n",
       "      <td>4.344077e+03</td>\n",
       "      <td>7.302210</td>\n",
       "      <td>9.020832</td>\n",
       "      <td>2.984456e+04</td>\n",
       "      <td>570.453205</td>\n",
       "      <td>70.436984</td>\n",
       "      <td>388.203116</td>\n",
       "      <td>0.096963</td>\n",
       "    </tr>\n",
       "    <tr>\n",
       "      <th>std</th>\n",
       "      <td>26.249504</td>\n",
       "      <td>108.921037</td>\n",
       "      <td>1175.236909</td>\n",
       "      <td>325.99326</td>\n",
       "      <td>96.623238</td>\n",
       "      <td>13.146913</td>\n",
       "      <td>32.369360</td>\n",
       "      <td>7.288580</td>\n",
       "      <td>23.076891</td>\n",
       "      <td>9.672854</td>\n",
       "      <td>...</td>\n",
       "      <td>0.412587</td>\n",
       "      <td>2972.589774</td>\n",
       "      <td>2.417431e+04</td>\n",
       "      <td>37.006535</td>\n",
       "      <td>46.802491</td>\n",
       "      <td>1.226782e+05</td>\n",
       "      <td>722.457100</td>\n",
       "      <td>15.852156</td>\n",
       "      <td>2773.216815</td>\n",
       "      <td>0.295908</td>\n",
       "    </tr>\n",
       "    <tr>\n",
       "      <th>min</th>\n",
       "      <td>0.000000</td>\n",
       "      <td>0.000000</td>\n",
       "      <td>0.000000</td>\n",
       "      <td>0.00000</td>\n",
       "      <td>0.000000</td>\n",
       "      <td>0.000000</td>\n",
       "      <td>0.000000</td>\n",
       "      <td>0.000000</td>\n",
       "      <td>0.000000</td>\n",
       "      <td>0.000000</td>\n",
       "      <td>...</td>\n",
       "      <td>0.000000</td>\n",
       "      <td>0.000000</td>\n",
       "      <td>0.000000e+00</td>\n",
       "      <td>0.000000</td>\n",
       "      <td>0.000000</td>\n",
       "      <td>0.000000e+00</td>\n",
       "      <td>0.000000</td>\n",
       "      <td>0.000000</td>\n",
       "      <td>0.000000</td>\n",
       "      <td>0.000000</td>\n",
       "    </tr>\n",
       "    <tr>\n",
       "      <th>25%</th>\n",
       "      <td>3.000000</td>\n",
       "      <td>4.000000</td>\n",
       "      <td>290.000000</td>\n",
       "      <td>48.00000</td>\n",
       "      <td>5.000000</td>\n",
       "      <td>0.000000</td>\n",
       "      <td>3.000000</td>\n",
       "      <td>1.000000</td>\n",
       "      <td>1.000000</td>\n",
       "      <td>0.000000</td>\n",
       "      <td>...</td>\n",
       "      <td>0.000000</td>\n",
       "      <td>686.000000</td>\n",
       "      <td>4.010000e+02</td>\n",
       "      <td>0.000000</td>\n",
       "      <td>0.000000</td>\n",
       "      <td>5.501000e+03</td>\n",
       "      <td>205.000000</td>\n",
       "      <td>68.000000</td>\n",
       "      <td>30.000000</td>\n",
       "      <td>0.000000</td>\n",
       "    </tr>\n",
       "    <tr>\n",
       "      <th>50%</th>\n",
       "      <td>9.000000</td>\n",
       "      <td>15.000000</td>\n",
       "      <td>528.000000</td>\n",
       "      <td>100.00000</td>\n",
       "      <td>17.000000</td>\n",
       "      <td>0.000000</td>\n",
       "      <td>9.000000</td>\n",
       "      <td>2.000000</td>\n",
       "      <td>5.000000</td>\n",
       "      <td>0.000000</td>\n",
       "      <td>...</td>\n",
       "      <td>0.000000</td>\n",
       "      <td>1185.000000</td>\n",
       "      <td>8.750000e+02</td>\n",
       "      <td>0.000000</td>\n",
       "      <td>1.000000</td>\n",
       "      <td>1.049200e+04</td>\n",
       "      <td>431.000000</td>\n",
       "      <td>74.000000</td>\n",
       "      <td>79.000000</td>\n",
       "      <td>0.000000</td>\n",
       "    </tr>\n",
       "    <tr>\n",
       "      <th>75%</th>\n",
       "      <td>18.000000</td>\n",
       "      <td>31.000000</td>\n",
       "      <td>834.000000</td>\n",
       "      <td>171.00000</td>\n",
       "      <td>35.000000</td>\n",
       "      <td>1.000000</td>\n",
       "      <td>18.000000</td>\n",
       "      <td>3.000000</td>\n",
       "      <td>12.000000</td>\n",
       "      <td>1.000000</td>\n",
       "      <td>...</td>\n",
       "      <td>0.000000</td>\n",
       "      <td>1899.250000</td>\n",
       "      <td>1.617000e+03</td>\n",
       "      <td>4.000000</td>\n",
       "      <td>7.000000</td>\n",
       "      <td>1.881100e+04</td>\n",
       "      <td>707.000000</td>\n",
       "      <td>79.000000</td>\n",
       "      <td>211.000000</td>\n",
       "      <td>0.000000</td>\n",
       "    </tr>\n",
       "    <tr>\n",
       "      <th>max</th>\n",
       "      <td>2924.000000</td>\n",
       "      <td>36328.000000</td>\n",
       "      <td>296536.000000</td>\n",
       "      <td>113886.00000</td>\n",
       "      <td>37065.000000</td>\n",
       "      <td>4551.000000</td>\n",
       "      <td>2721.000000</td>\n",
       "      <td>494.000000</td>\n",
       "      <td>2030.000000</td>\n",
       "      <td>1957.000000</td>\n",
       "      <td>...</td>\n",
       "      <td>74.000000</td>\n",
       "      <td>667203.000000</td>\n",
       "      <td>3.680651e+06</td>\n",
       "      <td>10621.000000</td>\n",
       "      <td>9934.000000</td>\n",
       "      <td>1.660190e+07</td>\n",
       "      <td>100023.000000</td>\n",
       "      <td>256.000000</td>\n",
       "      <td>822549.000000</td>\n",
       "      <td>1.000000</td>\n",
       "    </tr>\n",
       "  </tbody>\n",
       "</table>\n",
       "<p>8 rows × 23 columns</p>\n",
       "</div>"
      ],
      "text/plain": [
       "         num_headers  num_paragraphs       num_tags     num_links  \\\n",
       "count  337024.000000   337024.000000  337024.000000  337024.00000   \n",
       "mean       15.117422       29.244612     697.546198     144.11325   \n",
       "std        26.249504      108.921037    1175.236909     325.99326   \n",
       "min         0.000000        0.000000       0.000000       0.00000   \n",
       "25%         3.000000        4.000000     290.000000      48.00000   \n",
       "50%         9.000000       15.000000     528.000000     100.00000   \n",
       "75%        18.000000       31.000000     834.000000     171.00000   \n",
       "max      2924.000000    36328.000000  296536.000000  113886.00000   \n",
       "\n",
       "          num_images     num_tables      num_lists      num_forms  \\\n",
       "count  337024.000000  337024.000000  337024.000000  337024.000000   \n",
       "mean       29.466815       1.345064      14.948155       2.277393   \n",
       "std        96.623238      13.146913      32.369360       7.288580   \n",
       "min         0.000000       0.000000       0.000000       0.000000   \n",
       "25%         5.000000       0.000000       3.000000       1.000000   \n",
       "50%        17.000000       0.000000       9.000000       2.000000   \n",
       "75%        35.000000       1.000000      18.000000       3.000000   \n",
       "max     37065.000000    4551.000000    2721.000000     494.000000   \n",
       "\n",
       "          num_inputs    num_buttons  ...     num_embeds      num_lines  \\\n",
       "count  337024.000000  337024.000000  ...  337024.000000  337024.000000   \n",
       "mean       10.181800       1.672611  ...       0.034030    1649.578327   \n",
       "std        23.076891       9.672854  ...       0.412587    2972.589774   \n",
       "min         0.000000       0.000000  ...       0.000000       0.000000   \n",
       "25%         1.000000       0.000000  ...       0.000000     686.000000   \n",
       "50%         5.000000       0.000000  ...       0.000000    1185.000000   \n",
       "75%        12.000000       1.000000  ...       0.000000    1899.250000   \n",
       "max      2030.000000    1957.000000  ...      74.000000  667203.000000   \n",
       "\n",
       "          num_words  num_italic_words  num_bold_words  num_characters  \\\n",
       "count  3.370240e+05     337024.000000   337024.000000    3.370240e+05   \n",
       "mean   4.344077e+03          7.302210        9.020832    2.984456e+04   \n",
       "std    2.417431e+04         37.006535       46.802491    1.226782e+05   \n",
       "min    0.000000e+00          0.000000        0.000000    0.000000e+00   \n",
       "25%    4.010000e+02          0.000000        0.000000    5.501000e+03   \n",
       "50%    8.750000e+02          0.000000        1.000000    1.049200e+04   \n",
       "75%    1.617000e+03          4.000000        7.000000    1.881100e+04   \n",
       "max    3.680651e+06      10621.000000     9934.000000    1.660190e+07   \n",
       "\n",
       "       num_unique_words  num_unique_characters     num_digits      sponsored  \n",
       "count     337024.000000          337024.000000  337024.000000  337024.000000  \n",
       "mean         570.453205              70.436984     388.203116       0.096963  \n",
       "std          722.457100              15.852156    2773.216815       0.295908  \n",
       "min            0.000000               0.000000       0.000000       0.000000  \n",
       "25%          205.000000              68.000000      30.000000       0.000000  \n",
       "50%          431.000000              74.000000      79.000000       0.000000  \n",
       "75%          707.000000              79.000000     211.000000       0.000000  \n",
       "max       100023.000000             256.000000  822549.000000       1.000000  \n",
       "\n",
       "[8 rows x 23 columns]"
      ]
     },
     "execution_count": 68,
     "metadata": {},
     "output_type": "execute_result"
    }
   ],
   "source": [
    "df.describe()"
   ]
  },
  {
   "cell_type": "code",
   "execution_count": 70,
   "metadata": {},
   "outputs": [
    {
     "name": "stdout",
     "output_type": "stream",
     "text": [
      "<class 'pandas.core.frame.DataFrame'>\n",
      "Int64Index: 337024 entries, 0 to 337023\n",
      "Data columns (total 24 columns):\n",
      " #   Column                 Non-Null Count   Dtype \n",
      "---  ------                 --------------   ----- \n",
      " 0   language               209170 non-null  object\n",
      " 1   num_headers            337024 non-null  int64 \n",
      " 2   num_paragraphs         337024 non-null  int64 \n",
      " 3   num_tags               337024 non-null  int64 \n",
      " 4   num_links              337024 non-null  int64 \n",
      " 5   num_images             337024 non-null  int64 \n",
      " 6   num_tables             337024 non-null  int64 \n",
      " 7   num_lists              337024 non-null  int64 \n",
      " 8   num_forms              337024 non-null  int64 \n",
      " 9   num_inputs             337024 non-null  int64 \n",
      " 10  num_buttons            337024 non-null  int64 \n",
      " 11  num_scripts            337024 non-null  int64 \n",
      " 12  num_styles             337024 non-null  int64 \n",
      " 13  num_iframes            337024 non-null  int64 \n",
      " 14  num_embeds             337024 non-null  int64 \n",
      " 15  num_lines              337024 non-null  int64 \n",
      " 16  num_words              337024 non-null  int64 \n",
      " 17  num_italic_words       337024 non-null  int64 \n",
      " 18  num_bold_words         337024 non-null  int64 \n",
      " 19  num_characters         337024 non-null  int64 \n",
      " 20  num_unique_words       337024 non-null  int64 \n",
      " 21  num_unique_characters  337024 non-null  int64 \n",
      " 22  num_digits             337024 non-null  int64 \n",
      " 23  sponsored              337024 non-null  int64 \n",
      "dtypes: int64(23), object(1)\n",
      "memory usage: 64.3+ MB\n"
     ]
    }
   ],
   "source": [
    "df.info()"
   ]
  },
  {
   "cell_type": "markdown",
   "metadata": {},
   "source": [
    "#### We are dealing with an imbalanced dataset with a ~10/90 split"
   ]
  },
  {
   "cell_type": "code",
   "execution_count": 47,
   "metadata": {},
   "outputs": [
    {
     "data": {
      "text/plain": [
       "<AxesSubplot:xlabel='sponsored', ylabel='count'>"
      ]
     },
     "execution_count": 47,
     "metadata": {},
     "output_type": "execute_result"
    },
    {
     "data": {
      "image/png": "[encoded data removed]",
      "text/plain": [
       "<Figure size 432x288 with 1 Axes>"
      ]
     },
     "metadata": {},
     "output_type": "display_data"
    }
   ],
   "source": [
    "sns.countplot(data=df_file_labels, x='sponsored')"
   ]
  },
  {
   "cell_type": "markdown",
   "metadata": {},
   "source": [
    "#### First model"
   ]
  },
  {
   "cell_type": "code",
   "execution_count": 82,
   "metadata": {},
   "outputs": [],
   "source": [
    "X = df[df.columns.difference(['sponsored', 'language'])]\n",
    "y = df['sponsored']"
   ]
  },
  {
   "cell_type": "code",
   "execution_count": 83,
   "metadata": {},
   "outputs": [],
   "source": [
    "X_train, X_test, y_train, y_test = train_test_split(X, y, test_size=0.2, random_state=SEED)"
   ]
  },
  {
   "cell_type": "code",
   "execution_count": 84,
   "metadata": {},
   "outputs": [],
   "source": [
    "clf = DecisionTreeClassifier(random_state=SEED, criterion=\"entropy\",\n",
    "                             min_samples_split=10, min_samples_leaf=10, max_depth=10, max_leaf_nodes=5)\n",
    "clf.fit(X_train, y_train)\n",
    "y_pred = clf.predict(X_test)"
   ]
  },
  {
   "cell_type": "code",
   "execution_count": 86,
   "metadata": {},
   "outputs": [
    {
     "data": {
      "text/plain": [
       "array([[60946,     0],\n",
       "       [ 6459,     0]])"
      ]
     },
     "execution_count": 86,
     "metadata": {},
     "output_type": "execute_result"
    }
   ],
   "source": [
    "# predicts all yes\n",
    "confusion_matrix(y_test, y_pred)"
   ]
  },
  {
   "cell_type": "code",
   "execution_count": 94,
   "metadata": {},
   "outputs": [
    {
     "data": {
      "text/html": [
       "<style>#sk-container-id-1 {color: black;background-color: white;}#sk-container-id-1 pre{padding: 0;}#sk-container-id-1 div.sk-toggleable {background-color: white;}#sk-container-id-1 label.sk-toggleable__label {cursor: pointer;display: block;width: 100%;margin-bottom: 0;padding: 0.3em;box-sizing: border-box;text-align: center;}#sk-container-id-1 label.sk-toggleable__label-arrow:before {content: \"▸\";float: left;margin-right: 0.25em;color: #696969;}#sk-container-id-1 label.sk-toggleable__label-arrow:hover:before {color: black;}#sk-container-id-1 div.sk-estimator:hover label.sk-toggleable__label-arrow:before {color: black;}#sk-container-id-1 div.sk-toggleable__content {max-height: 0;max-width: 0;overflow: hidden;text-align: left;background-color: #f0f8ff;}#sk-container-id-1 div.sk-toggleable__content pre {margin: 0.2em;color: black;border-radius: 0.25em;background-color: #f0f8ff;}#sk-container-id-1 input.sk-toggleable__control:checked~div.sk-toggleable__content {max-height: 200px;max-width: 100%;overflow: auto;}#sk-container-id-1 input.sk-toggleable__control:checked~label.sk-toggleable__label-arrow:before {content: \"▾\";}#sk-container-id-1 div.sk-estimator input.sk-toggleable__control:checked~label.sk-toggleable__label {background-color: #d4ebff;}#sk-container-id-1 div.sk-label input.sk-toggleable__control:checked~label.sk-toggleable__label {background-color: #d4ebff;}#sk-container-id-1 input.sk-hidden--visually {border: 0;clip: rect(1px 1px 1px 1px);clip: rect(1px, 1px, 1px, 1px);height: 1px;margin: -1px;overflow: hidden;padding: 0;position: absolute;width: 1px;}#sk-container-id-1 div.sk-estimator {font-family: monospace;background-color: #f0f8ff;border: 1px dotted black;border-radius: 0.25em;box-sizing: border-box;margin-bottom: 0.5em;}#sk-container-id-1 div.sk-estimator:hover {background-color: #d4ebff;}#sk-container-id-1 div.sk-parallel-item::after {content: \"\";width: 100%;border-bottom: 1px solid gray;flex-grow: 1;}#sk-container-id-1 div.sk-label:hover label.sk-toggleable__label {background-color: #d4ebff;}#sk-container-id-1 div.sk-serial::before {content: \"\";position: absolute;border-left: 1px solid gray;box-sizing: border-box;top: 0;bottom: 0;left: 50%;z-index: 0;}#sk-container-id-1 div.sk-serial {display: flex;flex-direction: column;align-items: center;background-color: white;padding-right: 0.2em;padding-left: 0.2em;position: relative;}#sk-container-id-1 div.sk-item {position: relative;z-index: 1;}#sk-container-id-1 div.sk-parallel {display: flex;align-items: stretch;justify-content: center;background-color: white;position: relative;}#sk-container-id-1 div.sk-item::before, #sk-container-id-1 div.sk-parallel-item::before {content: \"\";position: absolute;border-left: 1px solid gray;box-sizing: border-box;top: 0;bottom: 0;left: 50%;z-index: -1;}#sk-container-id-1 div.sk-parallel-item {display: flex;flex-direction: column;z-index: 1;position: relative;background-color: white;}#sk-container-id-1 div.sk-parallel-item:first-child::after {align-self: flex-end;width: 50%;}#sk-container-id-1 div.sk-parallel-item:last-child::after {align-self: flex-start;width: 50%;}#sk-container-id-1 div.sk-parallel-item:only-child::after {width: 0;}#sk-container-id-1 div.sk-dashed-wrapped {border: 1px dashed gray;margin: 0 0.4em 0.5em 0.4em;box-sizing: border-box;padding-bottom: 0.4em;background-color: white;}#sk-container-id-1 div.sk-label label {font-family: monospace;font-weight: bold;display: inline-block;line-height: 1.2em;}#sk-container-id-1 div.sk-label-container {text-align: center;}#sk-container-id-1 div.sk-container {/* jupyter's `normalize.less` sets `[hidden] { display: none; }` but bootstrap.min.css set `[hidden] { display: none !important; }` so we also need the `!important` here to be able to override the default hidden behavior on the sphinx rendered scikit-learn.org. See: https://github.com/scikit-learn/scikit-learn/issues/21755 */display: inline-block !important;position: relative;}#sk-container-id-1 div.sk-text-repr-fallback {display: none;}</style><div id=\"sk-container-id-1\" class=\"sk-top-container\"><div class=\"sk-text-repr-fallback\"><pre>RandomForestClassifier(random_state=8455)</pre><b>In a Jupyter environment, please rerun this cell to show the HTML representation or trust the notebook. <br />On GitHub, the HTML representation is unable to render, please try loading this page with nbviewer.org.</b></div><div class=\"sk-container\" hidden><div class=\"sk-item\"><div class=\"sk-estimator sk-toggleable\"><input class=\"sk-toggleable__control sk-hidden--visually\" id=\"sk-estimator-id-1\" type=\"checkbox\" checked><label for=\"sk-estimator-id-1\" class=\"sk-toggleable__label sk-toggleable__label-arrow\">RandomForestClassifier</label><div class=\"sk-toggleable__content\"><pre>RandomForestClassifier(random_state=8455)</pre></div></div></div></div></div>"
      ],
      "text/plain": [
       "RandomForestClassifier(random_state=8455)"
      ]
     },
     "execution_count": 94,
     "metadata": {},
     "output_type": "execute_result"
    }
   ],
   "source": [
    "clf_rf = RandomForestClassifier(\n",
    "    n_estimators=100, max_depth=None, min_samples_split=2, random_state=SEED)\n",
    "clf_rf.fit(X_train, y_train)"
   ]
  },
  {
   "cell_type": "code",
   "execution_count": 95,
   "metadata": {},
   "outputs": [],
   "source": [
    "y_pred_rf = clf_rf.predict(X_test)"
   ]
  },
  {
   "cell_type": "code",
   "execution_count": 96,
   "metadata": {},
   "outputs": [
    {
     "data": {
      "text/plain": [
       "array([[60762,   184],\n",
       "       [ 3822,  2637]])"
      ]
     },
     "execution_count": 96,
     "metadata": {},
     "output_type": "execute_result"
    }
   ],
   "source": [
    "# predicts all yes\n",
    "confusion_matrix(y_test, y_pred_rf)"
   ]
  },
  {
   "cell_type": "code",
   "execution_count": 99,
   "metadata": {},
   "outputs": [
    {
     "name": "stdout",
     "output_type": "stream",
     "text": [
      "              precision    recall  f1-score   support\n",
      "\n",
      "           0       0.94      1.00      0.97     60946\n",
      "           1       0.93      0.41      0.57      6459\n",
      "\n",
      "    accuracy                           0.94     67405\n",
      "   macro avg       0.94      0.70      0.77     67405\n",
      "weighted avg       0.94      0.94      0.93     67405\n",
      "\n"
     ]
    }
   ],
   "source": [
    "print(classification_report(y_test, y_pred_rf))"
   ]
  },
  {
   "cell_type": "code",
   "execution_count": 102,
   "metadata": {},
   "outputs": [
    {
     "data": {
      "text/plain": [
       "[('num_scripts', 0.06774712700430925),\n",
       " ('num_links', 0.0655084267921183),\n",
       " ('num_lines', 0.06392637421743785),\n",
       " ('num_tags', 0.06203448371099428),\n",
       " ('num_digits', 0.06160677199711946),\n",
       " ('num_characters', 0.059580442804187186),\n",
       " ('num_inputs', 0.057995553782739885),\n",
       " ('num_images', 0.0566566579501215),\n",
       " ('num_words', 0.05377045704540885),\n",
       " ('num_headers', 0.05311292065422105),\n",
       " ('num_unique_words', 0.05246332356591352),\n",
       " ('num_lists', 0.05114785444858657),\n",
       " ('num_paragraphs', 0.04806513683409027),\n",
       " ('num_unique_characters', 0.04102698557376588),\n",
       " ('num_styles', 0.03675722192670543),\n",
       " ('num_buttons', 0.036070415766639066),\n",
       " ('num_italic_words', 0.03447154967722659),\n",
       " ('num_bold_words', 0.03228591386918294),\n",
       " ('num_forms', 0.0310366630134473),\n",
       " ('num_iframes', 0.021098313358135095),\n",
       " ('num_tables', 0.01234029866676555),\n",
       " ('num_embeds', 0.0012971073408842286)]"
      ]
     },
     "execution_count": 102,
     "metadata": {},
     "output_type": "execute_result"
    }
   ],
   "source": [
    "sorted(zip(X_train.columns, clf_rf.feature_importances_), key=lambda x: x[1] * -1)"
   ]
  },
  {
   "cell_type": "code",
   "execution_count": null,
   "metadata": {},
   "outputs": [],
   "source": []
  }
 ],
 "metadata": {
  "kernelspec": {
   "display_name": "Python 3 (ipykernel)",
   "language": "python",
   "name": "python3"
  },
  "language_info": {
   "codemirror_mode": {
    "name": "ipython",
    "version": 3
   },
   "file_extension": ".py",
   "mimetype": "text/x-python",
   "name": "python",
   "nbconvert_exporter": "python",
   "pygments_lexer": "ipython3",
   "version": "3.9.13"
  },
  "vscode": {
   "interpreter": {
    "hash": "aee8b7b246df8f9039afb4144a1f6fd8d2ca17a180786b69acc140d282b71a49"
   }
  }
 },
 "nbformat": 4,
 "nbformat_minor": 2
}
