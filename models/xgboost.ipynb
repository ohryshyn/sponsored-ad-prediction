{
 "cells": [
  {
   "cell_type": "code",
   "execution_count": 1,
   "metadata": {},
   "outputs": [],
   "source": [
    "import glob\n",
    "import re\n",
    "\n",
    "import pandas as pd\n",
    "from scipy.stats import randint, uniform\n",
    "\n",
    "from xgboost import XGBClassifier\n",
    "from sklearn.model_selection import train_test_split, GridSearchCV, RandomizedSearchCV\n",
    "from sklearn.base import BaseEstimator, TransformerMixin\n",
    "from sklearn.pipeline import Pipeline\n",
    "from sklearn.compose import ColumnTransformer\n",
    "from sklearn.feature_extraction.text import TfidfVectorizer\n",
    "\n",
    "from nltk.corpus import stopwords\n",
    "from nltk.stem import WordNetLemmatizer"
   ]
  },
  {
   "cell_type": "code",
   "execution_count": 2,
   "metadata": {},
   "outputs": [],
   "source": [
    "SEED = 8455"
   ]
  },
  {
   "cell_type": "code",
   "execution_count": 4,
   "metadata": {},
   "outputs": [],
   "source": [
    "cols_to_skip = ['raw_text', 'language']"
   ]
  },
  {
   "cell_type": "code",
   "execution_count": 8,
   "metadata": {},
   "outputs": [],
   "source": [
    "df_html_data = pd.concat([pd.read_csv(csv, lineterminator='\\n', usecols=lambda x: x not in cols_to_skip)\n",
    "               for csv in glob.glob('../data/csv/*.csv')], ignore_index=True)\n",
    "df_file_labels = pd.read_csv('../data/html_targets.csv')\n",
    "df = df_html_data.merge(df_file_labels, left_on='filename', right_on='file')\n",
    "df = df.drop(['file', 'filename'], axis=1)"
   ]
  },
  {
   "cell_type": "code",
   "execution_count": 10,
   "metadata": {},
   "outputs": [],
   "source": [
    "stop_words = set(stopwords.words('english') + \\\n",
    "                 stopwords.words('french') + \\\n",
    "                 stopwords.words('german') + \\\n",
    "                 stopwords.words('spanish')\n",
    "                )"
   ]
  },
  {
   "cell_type": "code",
   "execution_count": 11,
   "metadata": {},
   "outputs": [],
   "source": [
    "X = df.drop(['sponsored'], axis=1)\n",
    "y = df['sponsored']\n",
    "X_train, X_test, y_train, y_test = train_test_split(X, y, test_size=0.2, random_state=SEED)"
   ]
  },
  {
   "cell_type": "code",
   "execution_count": 12,
   "metadata": {},
   "outputs": [],
   "source": [
    "lemmer = WordNetLemmatizer()\n",
    "text_transformer = TfidfVectorizer()"
   ]
  },
  {
   "cell_type": "code",
   "execution_count": 13,
   "metadata": {},
   "outputs": [],
   "source": [
    "text_features = ['title']\n",
    "transform_features = ['language']\n",
    "numeric_features = [col for col in X.columns if 'num_' in col]\n",
    "bool_features = [col for col in X.columns if 'has_' in col]"
   ]
  },
  {
   "cell_type": "code",
   "execution_count": 14,
   "metadata": {},
   "outputs": [],
   "source": [
    "class TextPreprocessor(BaseEstimator, TransformerMixin):\n",
    "    def __init__(self, columns, stop_words=stopwords.words('english'), lemmer=WordNetLemmatizer()):\n",
    "        self.columns = columns\n",
    "        self.stop_words = stop_words\n",
    "        self.lemmer = lemmer\n",
    "\n",
    "    def fit(self, X, y=None):\n",
    "        return self\n",
    "\n",
    "    def transform(self, X, y=None):\n",
    "        _X = X.copy()\n",
    "        for column in self.columns:\n",
    "            print(f\"Processing {column} column\")\n",
    "            _X[column] = _X[column].fillna('')\n",
    "            _X[column] = _X[column].map(lambda x: x.lower())\n",
    "            _X[column] = _X[column].map(lambda x: re.sub(r'[^\\w\\s]', '', x))\n",
    "            _X[column] = _X[column].map(lambda x: re.sub(r'\\d+', '', x))\n",
    "            _X[column] = _X[column].map(lambda x: [lemmer.lemmatize(\n",
    "                word) for word in x.split() if word not in self.stop_words])\n",
    "            _X[column] = _X[column].map(lambda x: ' '.join(x))\n",
    "            print(f\"{column} cleaned\")\n",
    "        return _X"
   ]
  },
  {
   "cell_type": "markdown",
   "metadata": {},
   "source": [
    "### XGBoost"
   ]
  },
  {
   "cell_type": "code",
   "execution_count": null,
   "metadata": {},
   "outputs": [],
   "source": [
    "xgb = XGBClassifier(class_weight='balanced', random_state=SEED)\n",
    "\n",
    "preprocessor = Pipeline(steps=[\n",
    "    ('text_preprocessor', TextPreprocessor(columns=text_features,\n",
    "                                           stop_words=stop_words,\n",
    "                                           lemmer=lemmer)),\n",
    "    ('column_transformer', ColumnTransformer(transformers=[\n",
    "        ('text_transformer', text_transformer, text_features)],\n",
    "        remainder='passthrough'))\n",
    "])\n",
    "\n",
    "pipe = Pipeline(steps=[\n",
    "    ('preprocessor', preprocessor),\n",
    "    ('xgb', xgb)\n",
    "])"
   ]
  },
  {
   "cell_type": "markdown",
   "metadata": {},
   "source": [
    "#### Randomized Search"
   ]
  },
  {
   "cell_type": "code",
   "execution_count": null,
   "metadata": {},
   "outputs": [],
   "source": [
    "param_distributions = {\n",
    "    'preprocessor__column_transformer__text_transformer__max_df': uniform(0.5, 0.5),\n",
    "    'preprocessor__column_transformer__text_transformer__min_df': uniform(0.01, 0.1),\n",
    "    'preprocessor__column_transformer__text_transformer__ngram_range': [(1, 1), (1, 2), (1, 3)],\n",
    "    'preprocessor__column_tranformer__text_transformer__max_features': randint(100, 1000),\n",
    "    'preprocessor__column_tranformer__text_transformer__use_idf': [True, False],\n",
    "    'xgb__max_depth': randint(3, 10),\n",
    "    'xgb__learning_rate': uniform(0.01, 0.3),\n",
    "    'xgb__n_estimators': randint(100, 1000),\n",
    "    'xgb__subsample': uniform(0.5, 1),\n",
    "    'xgb__colsample_bytree': uniform(0.5, 1),\n",
    "    'xgb__gamma': uniform(0, 0.5),\n",
    "    'xgb__min_child_weight': randint(1, 10)\n",
    "}\n",
    "\n",
    "random_search = RandomizedSearchCV(pipe, param_distributions, n_iter=100, cv=10, n_jobs=-1, verbose=1, random_state=SEED)\n",
    "random_search.fit(X_train, y_train)\n",
    "print(random_search.best_params_)\n",
    "print(random_search.best_score_)\n",
    "print(random_search.score(X_test, y_test))"
   ]
  },
  {
   "cell_type": "markdown",
   "metadata": {},
   "source": [
    "#### Grid Search"
   ]
  },
  {
   "cell_type": "code",
   "execution_count": null,
   "metadata": {},
   "outputs": [],
   "source": [
    "param_grid = {\n",
    "    'preprocessor__column_transformer__text_transformer__ngram_range': [[1, 1], [1, 2]],\n",
    "    'preproocessor__column_tranformer__text_transformer__max_features': [500, 1000, 1500],\n",
    "    'preprocessor__column_transformer__text_transformer__max_df': [0.5, 0.75, 1.0],\n",
    "    'preprocessor__column_transformer__text_transformer__min_df': [1, 2, 3],\n",
    "    'preprocessor__column_tranformer__text_transformer__use_idf': [True, False],\n",
    "    'xgb__max_depth': [3, 5, 7],\n",
    "    'xgb__learning_rate': [0.01, 0.1, 0.3],\n",
    "    'xgb__n_estimators': [100, 200, 300],\n",
    "    'xgb__subsample': [0.5, 0.7, 1.0],\n",
    "    'xgb__colsample_bytree': [0.5, 0.7, 1.0],\n",
    "    'xgb__gamma': [0, 0.1, 0.3],\n",
    "    'xgb__min_child_weight': [1, 3, 5]\n",
    "}\n",
    "\n",
    "grid_search = GridSearchCV(\n",
    "    pipe,\n",
    "    param_grid,\n",
    "    cv=10,\n",
    "    n_jobs=-1,\n",
    "    scoring='f1_macro',\n",
    "    return_train_score=True,\n",
    "    verbose=2\n",
    ")\n",
    "\n",
    "grid_search.fit(X_train, y_train)\n",
    "print(grid_search.best_score_)\n",
    "print(grid_search.best_params_)\n",
    "\n"
   ]
  }
 ],
 "metadata": {
  "kernelspec": {
   "display_name": "Python 3 (ipykernel)",
   "language": "python",
   "name": "python3"
  },
  "language_info": {
   "codemirror_mode": {
    "name": "ipython",
    "version": 3
   },
   "file_extension": ".py",
   "mimetype": "text/x-python",
   "name": "python",
   "nbconvert_exporter": "python",
   "pygments_lexer": "ipython3",
   "version": "3.9.13"
  },
  "vscode": {
   "interpreter": {
    "hash": "aee8b7b246df8f9039afb4144a1f6fd8d2ca17a180786b69acc140d282b71a49"
   }
  }
 },
 "nbformat": 4,
 "nbformat_minor": 2
}
