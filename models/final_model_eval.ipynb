{
 "cells": [
  {
   "cell_type": "code",
   "execution_count": 45,
   "metadata": {},
   "outputs": [],
   "source": [
    "import glob\n",
    "import re\n",
    "import pickle\n",
    "\n",
    "import pandas as pd\n",
    "\n",
    "from sklearn.ensemble import RandomForestClassifier\n",
    "from sklearn.model_selection import train_test_split\n",
    "from sklearn.feature_extraction.text import TfidfVectorizer\n",
    "from sklearn.metrics import classification_report\n",
    "\n",
    "from nltk.corpus import stopwords\n",
    "from nltk.stem import WordNetLemmatizer"
   ]
  },
  {
   "cell_type": "code",
   "execution_count": 2,
   "metadata": {},
   "outputs": [],
   "source": [
    "SEED = 8455"
   ]
  },
  {
   "cell_type": "code",
   "execution_count": 3,
   "metadata": {},
   "outputs": [],
   "source": [
    "cols_to_skip = ['raw_text', 'language']"
   ]
  },
  {
   "cell_type": "code",
   "execution_count": 49,
   "metadata": {},
   "outputs": [],
   "source": [
    "df_html_data = pd.concat([pd.read_csv(csv, lineterminator='\\n', usecols=lambda x: x not in cols_to_skip)\n",
    "               for csv in glob.glob('../data/csv/*.csv')], ignore_index=True)\n",
    "df_file_labels = pd.read_csv('../data/html_targets.csv')\n",
    "df = df_html_data.merge(df_file_labels, left_on='filename', right_on='file')\n",
    "df = df.drop(['file', 'filename'], axis=1)"
   ]
  },
  {
   "cell_type": "code",
   "execution_count": 5,
   "metadata": {},
   "outputs": [],
   "source": [
    "stop_words = set(stopwords.words('english') + \\\n",
    "                 stopwords.words('french') + \\\n",
    "                 stopwords.words('german') + \\\n",
    "                 stopwords.words('spanish')\n",
    "                )"
   ]
  },
  {
   "cell_type": "code",
   "execution_count": 6,
   "metadata": {},
   "outputs": [],
   "source": [
    "lemmer = WordNetLemmatizer()\n",
    "text_transformer = TfidfVectorizer(max_features=250, ngram_range=(1, 2))"
   ]
  },
  {
   "cell_type": "code",
   "execution_count": 7,
   "metadata": {},
   "outputs": [],
   "source": [
    "df['title'] = df['title'].fillna('')\n",
    "df['title'] = df['title'].map(lambda x: x.lower())\n",
    "df['title'] = df['title'].map(lambda x: re.sub(r'[^\\w\\s]', '', x))\n",
    "df['title'] = df['title'].map(lambda x: re.sub(r'\\d+', '', x))\n",
    "df['title'] = df['title'].map(lambda x: [lemmer.lemmatize(word) for word in x.split() if word not in stop_words])\n",
    "df['title'] = df['title'].map(lambda x: ' '.join(x))"
   ]
  },
  {
   "cell_type": "code",
   "execution_count": 8,
   "metadata": {},
   "outputs": [],
   "source": [
    "df_text = text_transformer.fit_transform(df['title'])"
   ]
  },
  {
   "cell_type": "code",
   "execution_count": 9,
   "metadata": {},
   "outputs": [],
   "source": [
    "df_text = pd.DataFrame(df_text.toarray(), columns=text_transformer.get_feature_names_out())"
   ]
  },
  {
   "cell_type": "code",
   "execution_count": 10,
   "metadata": {},
   "outputs": [],
   "source": [
    "df = df.join(df_text)"
   ]
  },
  {
   "cell_type": "code",
   "execution_count": 11,
   "metadata": {},
   "outputs": [],
   "source": [
    "df = df.drop(['title'], axis=1)"
   ]
  },
  {
   "cell_type": "code",
   "execution_count": 12,
   "metadata": {},
   "outputs": [],
   "source": [
    "X = df.drop(['sponsored'], axis=1)\n",
    "y = df['sponsored']\n",
    "X_train, X_test, y_train, y_test = train_test_split(X, y, test_size=0.2, random_state=SEED)"
   ]
  },
  {
   "cell_type": "markdown",
   "metadata": {},
   "source": [
    "### RF Model"
   ]
  },
  {
   "cell_type": "code",
   "execution_count": 13,
   "metadata": {},
   "outputs": [],
   "source": [
    "clf = RandomForestClassifier(class_weight='balanced',\n",
    "                              criterion='entropy',\n",
    "                              max_samples=0.9262414952228437,\n",
    "                              min_samples_split=9,\n",
    "                              n_estimators=289,\n",
    "                              random_state=SEED)"
   ]
  },
  {
   "cell_type": "code",
   "execution_count": 31,
   "metadata": {},
   "outputs": [
    {
     "data": {
      "text/html": [
       "<style>#sk-container-id-1 {color: black;background-color: white;}#sk-container-id-1 pre{padding: 0;}#sk-container-id-1 div.sk-toggleable {background-color: white;}#sk-container-id-1 label.sk-toggleable__label {cursor: pointer;display: block;width: 100%;margin-bottom: 0;padding: 0.3em;box-sizing: border-box;text-align: center;}#sk-container-id-1 label.sk-toggleable__label-arrow:before {content: \"▸\";float: left;margin-right: 0.25em;color: #696969;}#sk-container-id-1 label.sk-toggleable__label-arrow:hover:before {color: black;}#sk-container-id-1 div.sk-estimator:hover label.sk-toggleable__label-arrow:before {color: black;}#sk-container-id-1 div.sk-toggleable__content {max-height: 0;max-width: 0;overflow: hidden;text-align: left;background-color: #f0f8ff;}#sk-container-id-1 div.sk-toggleable__content pre {margin: 0.2em;color: black;border-radius: 0.25em;background-color: #f0f8ff;}#sk-container-id-1 input.sk-toggleable__control:checked~div.sk-toggleable__content {max-height: 200px;max-width: 100%;overflow: auto;}#sk-container-id-1 input.sk-toggleable__control:checked~label.sk-toggleable__label-arrow:before {content: \"▾\";}#sk-container-id-1 div.sk-estimator input.sk-toggleable__control:checked~label.sk-toggleable__label {background-color: #d4ebff;}#sk-container-id-1 div.sk-label input.sk-toggleable__control:checked~label.sk-toggleable__label {background-color: #d4ebff;}#sk-container-id-1 input.sk-hidden--visually {border: 0;clip: rect(1px 1px 1px 1px);clip: rect(1px, 1px, 1px, 1px);height: 1px;margin: -1px;overflow: hidden;padding: 0;position: absolute;width: 1px;}#sk-container-id-1 div.sk-estimator {font-family: monospace;background-color: #f0f8ff;border: 1px dotted black;border-radius: 0.25em;box-sizing: border-box;margin-bottom: 0.5em;}#sk-container-id-1 div.sk-estimator:hover {background-color: #d4ebff;}#sk-container-id-1 div.sk-parallel-item::after {content: \"\";width: 100%;border-bottom: 1px solid gray;flex-grow: 1;}#sk-container-id-1 div.sk-label:hover label.sk-toggleable__label {background-color: #d4ebff;}#sk-container-id-1 div.sk-serial::before {content: \"\";position: absolute;border-left: 1px solid gray;box-sizing: border-box;top: 0;bottom: 0;left: 50%;z-index: 0;}#sk-container-id-1 div.sk-serial {display: flex;flex-direction: column;align-items: center;background-color: white;padding-right: 0.2em;padding-left: 0.2em;position: relative;}#sk-container-id-1 div.sk-item {position: relative;z-index: 1;}#sk-container-id-1 div.sk-parallel {display: flex;align-items: stretch;justify-content: center;background-color: white;position: relative;}#sk-container-id-1 div.sk-item::before, #sk-container-id-1 div.sk-parallel-item::before {content: \"\";position: absolute;border-left: 1px solid gray;box-sizing: border-box;top: 0;bottom: 0;left: 50%;z-index: -1;}#sk-container-id-1 div.sk-parallel-item {display: flex;flex-direction: column;z-index: 1;position: relative;background-color: white;}#sk-container-id-1 div.sk-parallel-item:first-child::after {align-self: flex-end;width: 50%;}#sk-container-id-1 div.sk-parallel-item:last-child::after {align-self: flex-start;width: 50%;}#sk-container-id-1 div.sk-parallel-item:only-child::after {width: 0;}#sk-container-id-1 div.sk-dashed-wrapped {border: 1px dashed gray;margin: 0 0.4em 0.5em 0.4em;box-sizing: border-box;padding-bottom: 0.4em;background-color: white;}#sk-container-id-1 div.sk-label label {font-family: monospace;font-weight: bold;display: inline-block;line-height: 1.2em;}#sk-container-id-1 div.sk-label-container {text-align: center;}#sk-container-id-1 div.sk-container {/* jupyter's `normalize.less` sets `[hidden] { display: none; }` but bootstrap.min.css set `[hidden] { display: none !important; }` so we also need the `!important` here to be able to override the default hidden behavior on the sphinx rendered scikit-learn.org. See: https://github.com/scikit-learn/scikit-learn/issues/21755 */display: inline-block !important;position: relative;}#sk-container-id-1 div.sk-text-repr-fallback {display: none;}</style><div id=\"sk-container-id-1\" class=\"sk-top-container\"><div class=\"sk-text-repr-fallback\"><pre>RandomForestClassifier(class_weight=&#x27;balanced&#x27;, criterion=&#x27;entropy&#x27;,\n",
       "                       max_samples=0.9262414952228437, min_samples_split=9,\n",
       "                       n_estimators=289, random_state=8455)</pre><b>In a Jupyter environment, please rerun this cell to show the HTML representation or trust the notebook. <br />On GitHub, the HTML representation is unable to render, please try loading this page with nbviewer.org.</b></div><div class=\"sk-container\" hidden><div class=\"sk-item\"><div class=\"sk-estimator sk-toggleable\"><input class=\"sk-toggleable__control sk-hidden--visually\" id=\"sk-estimator-id-1\" type=\"checkbox\" checked><label for=\"sk-estimator-id-1\" class=\"sk-toggleable__label sk-toggleable__label-arrow\">RandomForestClassifier</label><div class=\"sk-toggleable__content\"><pre>RandomForestClassifier(class_weight=&#x27;balanced&#x27;, criterion=&#x27;entropy&#x27;,\n",
       "                       max_samples=0.9262414952228437, min_samples_split=9,\n",
       "                       n_estimators=289, random_state=8455)</pre></div></div></div></div></div>"
      ],
      "text/plain": [
       "RandomForestClassifier(class_weight='balanced', criterion='entropy',\n",
       "                       max_samples=0.9262414952228437, min_samples_split=9,\n",
       "                       n_estimators=289, random_state=8455)"
      ]
     },
     "execution_count": 31,
     "metadata": {},
     "output_type": "execute_result"
    }
   ],
   "source": [
    "clf.fit(X_train, y_train)"
   ]
  },
  {
   "cell_type": "code",
   "execution_count": 34,
   "metadata": {},
   "outputs": [],
   "source": [
    "y_pred = clf.predict(X_test)"
   ]
  },
  {
   "cell_type": "code",
   "execution_count": 40,
   "metadata": {},
   "outputs": [
    {
     "name": "stdout",
     "output_type": "stream",
     "text": [
      "              precision    recall  f1-score   support\n",
      "\n",
      "           0       0.95      0.99      0.97     60946\n",
      "           1       0.87      0.47      0.61      6459\n",
      "\n",
      "    accuracy                           0.94     67405\n",
      "   macro avg       0.91      0.73      0.79     67405\n",
      "weighted avg       0.94      0.94      0.93     67405\n",
      "\n"
     ]
    }
   ],
   "source": [
    "print(classification_report(y_test, y_pred))"
   ]
  },
  {
   "cell_type": "code",
   "execution_count": 43,
   "metadata": {},
   "outputs": [
    {
     "data": {
      "text/plain": [
       "[('num_scripts', 0.05375852587720081),\n",
       " ('num_links', 0.048443714125413075),\n",
       " ('num_tags', 0.04754793445104348),\n",
       " ('num_lines', 0.04704443191353387),\n",
       " ('num_digits', 0.046524732031565645),\n",
       " ('num_characters', 0.04470769652235222),\n",
       " ('num_words', 0.04149311052182512),\n",
       " ('num_unique_words', 0.04143942031601846),\n",
       " ('num_headers', 0.040975081618243175),\n",
       " ('num_images', 0.040516069192487805),\n",
       " ('num_paragraphs', 0.03948274003528407),\n",
       " ('num_inputs', 0.03938725994849528),\n",
       " ('num_lists', 0.0390173546337236),\n",
       " ('num_unique_characters', 0.032792321708695824),\n",
       " ('num_styles', 0.027024974898678458),\n",
       " ('num_bold_words', 0.025064222189281515),\n",
       " ('num_italic_words', 0.02495769032685725),\n",
       " ('num_buttons', 0.02444263461804975),\n",
       " ('num_forms', 0.023672203229566136),\n",
       " ('num_tables', 0.020910757671013944),\n",
       " ('num_iframes', 0.017565486772287954),\n",
       " ('has_google_analytics', 0.010342273312204863),\n",
       " ('has_universal_pixel', 0.009531795860325992),\n",
       " ('blog', 0.00926018791646937),\n",
       " ('has_google_tag_manager', 0.008930204636915554),\n",
       " ('infographic', 0.005438369237121334),\n",
       " ('news', 0.004872409406252896),\n",
       " ('health', 0.0037047195652824237),\n",
       " ('imgur', 0.003180746661465521),\n",
       " ('business', 0.002912571898952784),\n",
       " ('guide', 0.0028731482587540874),\n",
       " ('video', 0.0028027366398773036),\n",
       " ('online', 0.0027119058728398418),\n",
       " ('has_pubads', 0.002671334311407317),\n",
       " ('tip', 0.0025348724228395686),\n",
       " ('free', 0.002502886596701817),\n",
       " ('num_embeds', 0.0024462503145451474),\n",
       " ('best', 0.0023528523031791995),\n",
       " ('home', 0.002308923327426),\n",
       " ('new', 0.0022861788392368335),\n",
       " ('free encyclopedia', 0.0021689228694286946),\n",
       " ('has_google_syndication', 0.0020776297300881424),\n",
       " ('recipe', 0.0020397188589500437),\n",
       " ('wikipedia free', 0.0019941558322270304),\n",
       " ('world', 0.0019396930616309151),\n",
       " ('wikipedia', 0.001899147527410764),\n",
       " ('has_google_adsense', 0.001882172880275853),\n",
       " ('way', 0.0018608330675707109),\n",
       " ('top', 0.0018545282567747233),\n",
       " ('travel', 0.001743343056951178),\n",
       " ('encyclopedia', 0.0017369652490998018),\n",
       " ('design', 0.0017213633065802487),\n",
       " ('car', 0.0016608149687595277),\n",
       " ('marketing', 0.0016193909156424862),\n",
       " ('today', 0.0014057339187172862),\n",
       " ('bbc', 0.0014050281092335174),\n",
       " ('photo', 0.0013803080258230343),\n",
       " ('review', 0.0013588341622515908),\n",
       " ('get', 0.0013584034620646444),\n",
       " ('life', 0.0013063805114080023),\n",
       " ('make', 0.0012956978722698386),\n",
       " ('thing', 0.0012415648545270575),\n",
       " ('time', 0.00119161544060208),\n",
       " ('service', 0.0011760326709363705),\n",
       " ('game', 0.001128331471452505),\n",
       " ('food', 0.0011134656804783225),\n",
       " ('day', 0.0010921816762827846),\n",
       " ('daily', 0.001091026462353303),\n",
       " ('magazine', 0.0010889618868208796),\n",
       " ('sale', 0.001064836400379291),\n",
       " ('stumbleuponcom', 0.0010345009818737354),\n",
       " ('social', 0.0010189162062188312),\n",
       " ('art', 0.001002140099494382),\n",
       " ('woman', 0.0009301493979915941),\n",
       " ('science', 0.0009299595578840375),\n",
       " ('medium', 0.0009186549801151755),\n",
       " ('post', 0.000889436912957231),\n",
       " ('like', 0.0008834390376990403),\n",
       " ('content', 0.0008798657070935233),\n",
       " ('need', 0.000878056992589197),\n",
       " ('mtv', 0.0008719299610285632),\n",
       " ('idea', 0.0008692899116081297),\n",
       " ('know', 0.0008685572074537079),\n",
       " ('page', 0.0008542002598553102),\n",
       " ('app', 0.0008424163358041716),\n",
       " ('love', 0.0008395295825224334),\n",
       " ('quote', 0.0008373838224272939),\n",
       " ('music', 0.000823227335579382),\n",
       " ('has_clicky', 0.0008189836398591168),\n",
       " ('power', 0.0008187321529976493),\n",
       " ('picture', 0.0008123136629954555),\n",
       " ('center', 0.0008006142826861785),\n",
       " ('network', 0.0008000409496441986),\n",
       " ('weekly', 0.0007829250583942426),\n",
       " ('real', 0.000775001344516613),\n",
       " ('web', 0.0007688999518607667),\n",
       " ('one', 0.0007585519592596303),\n",
       " ('story', 0.000753092699861207),\n",
       " ('product', 0.0007515454363149083),\n",
       " ('site', 0.0007249592917085528),\n",
       " ('watch', 0.0007236088085766782),\n",
       " ('msnbc', 0.0007231044658536517),\n",
       " ('tool', 0.0007192915614827602),\n",
       " ('people', 0.0007132556923932252),\n",
       " ('fashion', 0.0006999963053296134),\n",
       " ('company', 0.0006986162366493827),\n",
       " ('work', 0.0006981061180887275),\n",
       " ('website', 0.0006912023468658488),\n",
       " ('resource', 0.0006800687749872643),\n",
       " ('trend', 0.0006723031105739718),\n",
       " ('money', 0.0006675113614553805),\n",
       " ('funny', 0.0006643808763674324),\n",
       " ('help', 0.0006590722252650231),\n",
       " ('project', 0.0006554594885685545),\n",
       " ('washington', 0.0006545161034271574),\n",
       " ('gift', 0.000644664856507767),\n",
       " ('book', 0.000641610008487395),\n",
       " ('technology', 0.0006415131885758337),\n",
       " ('look', 0.000640572274913166),\n",
       " ('find', 0.0006331986029508275),\n",
       " ('style', 0.0006297148032169051),\n",
       " ('house', 0.0006290750981753273),\n",
       " ('year', 0.0006262103854495043),\n",
       " ('study', 0.0006140266905930742),\n",
       " ('holiday', 0.0006125796736559283),\n",
       " ('dog', 0.0006123488367344725),\n",
       " ('show', 0.000612316551987133),\n",
       " ('kid', 0.0006072604153145196),\n",
       " ('uk', 0.0006065004501138052),\n",
       " ('bbc news', 0.0006018485518865567),\n",
       " ('store', 0.0005975445924556736),\n",
       " ('first', 0.000590535859118742),\n",
       " ('buy', 0.0005882588490677919),\n",
       " ('city', 0.0005850929012392431),\n",
       " ('history', 0.0005843655613468294),\n",
       " ('movie', 0.0005823142145470544),\n",
       " ('reason', 0.0005802318177360525),\n",
       " ('diy', 0.000569274177352943),\n",
       " ('good', 0.0005684038893264042),\n",
       " ('list', 0.0005674145101672549),\n",
       " ('digital', 0.0005644378351673595),\n",
       " ('modern', 0.000563115054617097),\n",
       " ('place', 0.0005613281163326645),\n",
       " ('big', 0.000558966514607222),\n",
       " ('google', 0.0005587711128170966),\n",
       " ('open', 0.0005531410642470818),\n",
       " ('sport', 0.0005515364893501569),\n",
       " ('wedding', 0.0005499127707938904),\n",
       " ('fact', 0.0005489184688675458),\n",
       " ('america', 0.0005464254323336417),\n",
       " ('easy', 0.0005457601057345047),\n",
       " ('tv', 0.0005452720433961333),\n",
       " ('mobile', 0.0005383264164735459),\n",
       " ('software', 0.000524174257853294),\n",
       " ('great', 0.0005210772437859491),\n",
       " ('boing', 0.0005196268373040867),\n",
       " ('film', 0.0005136557982861037),\n",
       " ('job', 0.0005136121962266738),\n",
       " ('cat', 0.0005113241659569069),\n",
       " ('tech', 0.0005109637934763399),\n",
       " ('go', 0.0005067311567396393),\n",
       " ('family', 0.0005047077347271615),\n",
       " ('baby', 0.0005045539304051373),\n",
       " ('found', 0.0004994323327458771),\n",
       " ('men', 0.0004915646014352168),\n",
       " ('information', 0.0004813845586251596),\n",
       " ('internet', 0.0004808097368949109),\n",
       " ('image', 0.0004799455100443235),\n",
       " ('take', 0.000475479439562871),\n",
       " ('back', 0.0004751829491324969),\n",
       " ('amazing', 0.0004718754667846522),\n",
       " ('american', 0.00047131374073079946),\n",
       " ('rock', 0.0004701155350737255),\n",
       " ('future', 0.00046181014466298),\n",
       " ('ever', 0.0004603550702418136),\n",
       " ('play', 0.00045743211712540927),\n",
       " ('download', 0.00045140590392265227),\n",
       " ('green', 0.0004510361254684638),\n",
       " ('party', 0.00044510489728211085),\n",
       " ('facebook', 0.0004448613231329767),\n",
       " ('market', 0.00044460306998751883),\n",
       " ('eurekalert science', 0.00044358674542619776),\n",
       " ('living', 0.00044226968240414753),\n",
       " ('every', 0.000435267794714451),\n",
       " ('search', 0.0004347143207454881),\n",
       " ('step', 0.0004334395506488217),\n",
       " ('part', 0.0004325268744608241),\n",
       " ('has_google_remarketing', 0.0004321886624442851),\n",
       " ('beauty', 0.00043117944254155295),\n",
       " ('school', 0.00043105827197283396),\n",
       " ('hotel', 0.00042932600924926314),\n",
       " ('animal', 0.00042690259304055037),\n",
       " ('right', 0.0004268552518661869),\n",
       " ('system', 0.0004222636653526619),\n",
       " ('healthy', 0.00041870230936991886),\n",
       " ('phone', 0.00041418850202713136),\n",
       " ('state', 0.00041335276232160013),\n",
       " ('community', 0.00040949238771237784),\n",
       " ('save', 0.00040898026464809253),\n",
       " ('science news', 0.00040894224017046276),\n",
       " ('made', 0.0004066533759078736),\n",
       " ('eurekalert', 0.0004057992775351198),\n",
       " ('live', 0.00040475073632429304),\n",
       " ('better', 0.0004017078609143369),\n",
       " ('fun', 0.0003939931493022364),\n",
       " ('secret', 0.00039346017041633273),\n",
       " ('dont', 0.0003923913920970371),\n",
       " ('archive', 0.00039208095923473933),\n",
       " ('girl', 0.0003909900968868016),\n",
       " ('summer', 0.00038670232677258084),\n",
       " ('card', 0.0003849261739859278),\n",
       " ('creative', 0.00038436159840725886),\n",
       " ('christmas', 0.00037871335256031534),\n",
       " ('say', 0.0003754569596985447),\n",
       " ('red', 0.0003751216529894895),\n",
       " ('radio', 0.00037008360964519224),\n",
       " ('iphone', 0.0003671247287641469),\n",
       " ('simple', 0.0003661814152262483),\n",
       " ('android', 0.0003602757057012383),\n",
       " ('talk', 0.00035874778888966645),\n",
       " ('black', 0.0003580639143970342),\n",
       " ('song', 0.00035588492412132585),\n",
       " ('report', 0.0003500554851221316),\n",
       " ('mail', 0.0003484254702533211),\n",
       " ('track', 0.00034600481783952637),\n",
       " ('mom', 0.0003458680636522947),\n",
       " ('gallery', 0.0003457113079322582),\n",
       " ('child', 0.00033761067818520267),\n",
       " ('star', 0.0003365694890269004),\n",
       " ('earth', 0.0003349887823969084),\n",
       " ('etsy', 0.00033489964609833124),\n",
       " ('week', 0.0003340623318668411),\n",
       " ('change', 0.0003329163140627304),\n",
       " ('guy', 0.00033136874046240685),\n",
       " ('body', 0.0003281350941833551),\n",
       " ('see', 0.00032267781891963415),\n",
       " ('use', 0.00032200329754834806),\n",
       " ('comic', 0.00031817824575087973),\n",
       " ('plan', 0.0003171430986501337),\n",
       " ('want', 0.0003168711798093753),\n",
       " ('high', 0.00031226721007248694),\n",
       " ('cool', 0.00031194101995940337),\n",
       " ('really', 0.00030974501180469594),\n",
       " ('window', 0.00030330000621671556),\n",
       " ('kitchen', 0.0002939919622651297),\n",
       " ('heart', 0.0002929011324570773),\n",
       " ('york', 0.0002886508156015817),\n",
       " ('national', 0.000284767182675571),\n",
       " ('new york', 0.0002811221462003878),\n",
       " ('apple', 0.0002794968573285047),\n",
       " ('tutorial', 0.00027415509235433966),\n",
       " ('white', 0.0002567942050829158),\n",
       " ('little', 0.00025619289628940205),\n",
       " ('mind', 0.00025205357038898785),\n",
       " ('never', 0.00024911587822421373),\n",
       " ('album', 0.00024842140119836785),\n",
       " ('view', 0.0002472061793873962),\n",
       " ('daily mail', 0.00024413474807726077),\n",
       " ('bad', 0.00024329926717802711),\n",
       " ('space', 0.00024314624165986822),\n",
       " ('mail online', 0.00024308130047749312),\n",
       " ('brain', 0.00023932133643947399),\n",
       " ('could', 0.0002345531734157487),\n",
       " ('may', 0.00022594308774159563),\n",
       " ('old', 0.0002250002283344309),\n",
       " ('stop', 0.00021741864341008027),\n",
       " ('hot', 0.0002156675585092005),\n",
       " ('light', 0.00021372847028683644),\n",
       " ('set', 0.00021216260210364998),\n",
       " ('research', 0.0002045801590073347),\n",
       " ('water', 0.00020404210234031838),\n",
       " ('two', 0.00020173597399833934),\n",
       " ('chocolate', 0.00019237047691786317),\n",
       " ('india', 0.00019088819722055096),\n",
       " ('night', 0.00018796622733522337),\n",
       " ('pic', 0.00018762638892561386),\n",
       " ('human', 0.00015925235343397894),\n",
       " ('obama', 0.00014818878104804866),\n",
       " ('gif', 0.0001224253529585707),\n",
       " ('death', 0.00011459820915984018),\n",
       " ('has_header_bidding', 0.0)]"
      ]
     },
     "execution_count": 43,
     "metadata": {},
     "output_type": "execute_result"
    }
   ],
   "source": [
    "sorted(zip(X.columns, clf.feature_importances_), key=lambda x: x[1] * -1)"
   ]
  },
  {
   "cell_type": "code",
   "execution_count": 47,
   "metadata": {},
   "outputs": [],
   "source": [
    "with open('nativead_predict_rf.pkl', 'wb') as file:\n",
    "    pickle.dump(clf, file)"
   ]
  },
  {
   "cell_type": "code",
   "execution_count": null,
   "metadata": {},
   "outputs": [],
   "source": []
  }
 ],
 "metadata": {
  "kernelspec": {
   "display_name": "Python 3 (ipykernel)",
   "language": "python",
   "name": "python3"
  },
  "language_info": {
   "codemirror_mode": {
    "name": "ipython",
    "version": 3
   },
   "file_extension": ".py",
   "mimetype": "text/x-python",
   "name": "python",
   "nbconvert_exporter": "python",
   "pygments_lexer": "ipython3",
   "version": "3.9.13"
  },
  "vscode": {
   "interpreter": {
    "hash": "aee8b7b246df8f9039afb4144a1f6fd8d2ca17a180786b69acc140d282b71a49"
   }
  }
 },
 "nbformat": 4,
 "nbformat_minor": 2
}
