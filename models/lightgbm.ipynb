{
 "cells": [
  {
   "cell_type": "code",
   "execution_count": 1,
   "metadata": {},
   "outputs": [],
   "source": [
    "import glob\n",
    "import re\n",
    "\n",
    "import pandas as pd\n",
    "\n",
    "from lightgbm import LGBMClassifier\n",
    "from sklearn.model_selection import train_test_split, GridSearchCV, RandomizedSearchCV\n",
    "from sklearn.base import BaseEstimator, TransformerMixin\n",
    "from sklearn.pipeline import Pipeline\n",
    "from sklearn.compose import ColumnTransformer\n",
    "from sklearn.feature_extraction.text import TfidfVectorizer\n",
    "\n",
    "from nltk.corpus import stopwords\n",
    "from nltk.stem import WordNetLemmatizer"
   ]
  },
  {
   "cell_type": "code",
   "execution_count": 2,
   "metadata": {},
   "outputs": [],
   "source": [
    "SEED = 8455"
   ]
  },
  {
   "cell_type": "code",
   "execution_count": 4,
   "metadata": {},
   "outputs": [],
   "source": [
    "cols_to_skip = ['raw_text', 'language']"
   ]
  },
  {
   "cell_type": "code",
   "execution_count": 8,
   "metadata": {},
   "outputs": [],
   "source": [
    "df_html_data = pd.concat([pd.read_csv(csv, lineterminator='\\n', usecols=lambda x: x not in cols_to_skip)\n",
    "               for csv in glob.glob('../data/csv/*.csv')], ignore_index=True)\n",
    "df_file_labels = pd.read_csv('../data/html_targets.csv')\n",
    "df = df_html_data.merge(df_file_labels, left_on='filename', right_on='file')\n",
    "df = df.drop(['file', 'filename'], axis=1)"
   ]
  },
  {
   "cell_type": "code",
   "execution_count": 10,
   "metadata": {},
   "outputs": [],
   "source": [
    "stop_words = set(stopwords.words('english') + \\\n",
    "                 stopwords.words('french') + \\\n",
    "                 stopwords.words('german') + \\\n",
    "                 stopwords.words('spanish')\n",
    "                )"
   ]
  },
  {
   "cell_type": "code",
   "execution_count": 11,
   "metadata": {},
   "outputs": [],
   "source": [
    "X = df.drop(['sponsored'], axis=1)\n",
    "y = df['sponsored']\n",
    "X_train, X_test, y_train, y_test = train_test_split(X, y, test_size=0.2, random_state=SEED)"
   ]
  },
  {
   "cell_type": "code",
   "execution_count": 12,
   "metadata": {},
   "outputs": [],
   "source": [
    "lemmer = WordNetLemmatizer()\n",
    "text_transformer = TfidfVectorizer()"
   ]
  },
  {
   "cell_type": "code",
   "execution_count": 13,
   "metadata": {},
   "outputs": [],
   "source": [
    "text_features = ['title']\n",
    "transform_features = ['language']\n",
    "numeric_features = [col for col in X.columns if 'num_' in col]\n",
    "bool_features = [col for col in X.columns if 'has_' in col]"
   ]
  },
  {
   "cell_type": "code",
   "execution_count": 14,
   "metadata": {},
   "outputs": [],
   "source": [
    "class TextPreprocessor(BaseEstimator, TransformerMixin):\n",
    "    def __init__(self, columns, stop_words=stopwords.words('english'), lemmer=WordNetLemmatizer()):\n",
    "        self.columns = columns\n",
    "        self.stop_words = stop_words\n",
    "        self.lemmer = lemmer\n",
    "\n",
    "    def fit(self, X, y=None):\n",
    "        return self\n",
    "\n",
    "    def transform(self, X, y=None):\n",
    "        _X = X.copy()\n",
    "        for column in self.columns:\n",
    "            print(f\"Processing {column} column\")\n",
    "            _X[column] = _X[column].fillna('')\n",
    "            _X[column] = _X[column].map(lambda x: x.lower())\n",
    "            _X[column] = _X[column].map(lambda x: re.sub(r'[^\\w\\s]', '', x))\n",
    "            _X[column] = _X[column].map(lambda x: re.sub(r'\\d+', '', x))\n",
    "            _X[column] = _X[column].map(lambda x: [lemmer.lemmatize(\n",
    "                word) for word in x.split() if word not in self.stop_words])\n",
    "            _X[column] = _X[column].map(lambda x: ' '.join(x))\n",
    "            print(f\"{column} cleaned\")\n",
    "        return _X"
   ]
  },
  {
   "cell_type": "markdown",
   "metadata": {},
   "source": [
    "### LGBM"
   ]
  },
  {
   "cell_type": "code",
   "execution_count": null,
   "metadata": {},
   "outputs": [
    {
     "name": "stdout",
     "output_type": "stream",
     "text": [
      "Fitting 10 folds for each of 3 candidates, totalling 30 fits\n"
     ]
    }
   ],
   "source": [
    "lgbm = LGBMClassifier(n_estimators=200, class_weight='balanced', random_state=SEED)\n",
    "\n",
    "preprocessor = Pipeline(steps=[\n",
    "    ('text_preprocessor', TextPreprocessor(columns=text_features,\n",
    "                                           stop_words=stop_words,\n",
    "                                           lemmer=lemmer)),\n",
    "    ('column_transformer', ColumnTransformer(transformers=[\n",
    "        ('text_transformer', text_transformer, text_features)],\n",
    "        remainder='passthrough'))\n",
    "])\n",
    "\n",
    "pipe = Pipeline(steps=[\n",
    "    ('preprocessor', preprocessor),\n",
    "    ('lgbm', lgbm)\n",
    "])\n",
    "\n",
    "\n",
    "param_grid = {\n",
    "    'ct__tfidf__ngram_range': [[1, 1], [1, 2]],\n",
    "    'ct__tfidf__max_features': [100, 500, 1000],\n",
    "    'ct__tfidf__max_df': [0.5, 0.75, 1.0],\n",
    "    'ct__tfidf__min_df': [1, 2, 3],\n",
    "    'ct__tfidf__use_idf': [True, False],\n",
    "    'lgbm__max_depth': [3, 5, 7],\n",
    "    'lgbm__learning_rate': [0.01, 0.05, 0.1],\n",
    "    'lgbm__num_leaves': [10, 20, 30],\n",
    "    'lgbm__min_samples_leaf': [10, 20, 30],\n",
    "    'lgbm__lambda_l1': [0.0, 0.5, 1.0],\n",
    "    'lgbm__lambda_l2': [0.0, 0.5, 1.0]\n",
    "}\n",
    "\n",
    "\n",
    "pipe = GridSearchCV(\n",
    "    pipe,\n",
    "    param_grid,\n",
    "    cv=10,\n",
    "    n_jobs=-1,\n",
    "    scoring='f1_macro',\n",
    "    return_train_score=True,\n",
    "    verbose=2\n",
    ")\n",
    "\n",
    "pipe = pipe.fit(X_train, y_train)\n",
    "print(pipe.best_score_)\n",
    "print(pipe.best_params_)\n"
   ]
  }
 ],
 "metadata": {
  "kernelspec": {
   "display_name": "Python 3 (ipykernel)",
   "language": "python",
   "name": "python3"
  },
  "language_info": {
   "codemirror_mode": {
    "name": "ipython",
    "version": 3
   },
   "file_extension": ".py",
   "mimetype": "text/x-python",
   "name": "python",
   "nbconvert_exporter": "python",
   "pygments_lexer": "ipython3",
   "version": "3.9.13"
  },
  "vscode": {
   "interpreter": {
    "hash": "aee8b7b246df8f9039afb4144a1f6fd8d2ca17a180786b69acc140d282b71a49"
   }
  }
 },
 "nbformat": 4,
 "nbformat_minor": 2
}
